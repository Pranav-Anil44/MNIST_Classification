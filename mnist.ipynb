{
 "cells": [
  {
   "cell_type": "code",
   "execution_count": 1,
   "id": "4bcab180-aac4-4a46-a769-e9a2cb06949c",
   "metadata": {},
   "outputs": [],
   "source": [
    "import numpy as np\n",
    "import tensorflow as tf\n",
    "import tensorflow_datasets as tfds"
   ]
  },
  {
   "cell_type": "code",
   "execution_count": 2,
   "id": "f843e4e8-0c6c-4a2f-a42d-fb7355f0855b",
   "metadata": {},
   "outputs": [
    {
     "name": "stdout",
     "output_type": "stream",
     "text": [
      "C:\\Users\\prana\\anaconda3\\envs\\fresh_env\\python.exe\n"
     ]
    }
   ],
   "source": [
    "import sys\n",
    "print(sys.executable)"
   ]
  },
  {
   "cell_type": "code",
   "execution_count": 3,
   "id": "5b7a2113-ef21-4739-bb4d-01eb4afce147",
   "metadata": {},
   "outputs": [],
   "source": [
    "mnist_dataset,mnist_info=tfds.load(name='mnist',with_info=True,as_supervised=True)"
   ]
  },
  {
   "cell_type": "code",
   "execution_count": 4,
   "id": "0bd9f795-fc4f-421a-8c66-af7ac71341a1",
   "metadata": {},
   "outputs": [],
   "source": [
    "mnist_train,mnist_test=mnist_dataset['train'],mnist_dataset['test']\n",
    "num_validation_samples=0.1* mnist_info.splits['train'].num_examples\n",
    "num_validation_samples=tf.cast(num_validation_samples,tf.int64)\n",
    "\n",
    "num_test_samples=mnist_info.splits['test'].num_examples\n",
    "num_test_samples=tf.cast(num_test_samples,tf.int64)\n",
    "\n",
    "def scale(image,label):\n",
    "    image=tf.cast(image,tf.float32)  \n",
    "    image/=255.\n",
    "    return image,label\n",
    "\n",
    "scaled_train_and_validation_data=mnist_train.map(scale)\n",
    "test_data=mnist_test.map(scale)\n",
    "\n",
    "##Shuffling\n",
    "\n",
    "BUFFER_SIZE=1000\n",
    "shuffled_train_and_validation_data=scaled_train_and_validation_data.shuffle(BUFFER_SIZE)\n",
    "validation_data=shuffled_train_and_validation_data.take(num_validation_samples)\n",
    "train_data=shuffled_train_and_validation_data.skip(num_validation_samples)\n",
    "\n",
    "##batching\n",
    "\n",
    "BATCH_SIZE=100\n",
    "train_data=train_data.batch(BATCH_SIZE)\n",
    "validation_data=validation_data.batch(num_validation_samples)\n",
    "test_data=test_data.batch(num_test_samples)\n",
    "\n",
    "validation_input,validation_output= next(iter(validation_data))"
   ]
  },
  {
   "cell_type": "code",
   "execution_count": 8,
   "id": "030c6f48-796f-493b-81b1-f171e1c36ebb",
   "metadata": {},
   "outputs": [],
   "source": [
    "##Model outline \n",
    "\n",
    "input_size=784\n",
    "output_size=10\n",
    "hidden_layer_size=50\n",
    "\n",
    "model=tf.keras.Sequential([ tf.keras.layers.Flatten(input_shape=(28,28,1)),\n",
    "                            tf.keras.layers.Dense(hidden_layer_size,activation='relu'),\n",
    "                            tf.keras.layers.Dense(hidden_layer_size,activation='relu'),\n",
    "                            tf.keras.layers.Dense(output_size,activation='softmax')\n",
    "            \n",
    "])\n"
   ]
  },
  {
   "cell_type": "code",
   "execution_count": 26,
   "id": "4b94fa75-8e3e-4ff7-8b7c-ba26e35fe941",
   "metadata": {},
   "outputs": [],
   "source": [
    "#optimizer and loss function\n",
    "\n",
    "model.compile(optimizer='adam',loss='sparse_categorical_crossentropy',metrics=['accuracy'])"
   ]
  },
  {
   "cell_type": "code",
   "execution_count": 28,
   "id": "2163332a-c960-42a4-ac66-453368940505",
   "metadata": {
    "scrolled": true
   },
   "outputs": [
    {
     "name": "stdout",
     "output_type": "stream",
     "text": [
      "Epoch 1/5\n",
      "540/540 - 15s - 27ms/step - accuracy: 0.8780 - loss: 0.4220 - val_accuracy: 0.9367 - val_loss: 0.2141\n",
      "Epoch 2/5\n",
      "540/540 - 4s - 7ms/step - accuracy: 0.9479 - loss: 0.1791 - val_accuracy: 0.9450 - val_loss: 0.1737\n",
      "Epoch 3/5\n",
      "540/540 - 4s - 7ms/step - accuracy: 0.9592 - loss: 0.1363 - val_accuracy: 0.9552 - val_loss: 0.1428\n",
      "Epoch 4/5\n",
      "540/540 - 6s - 11ms/step - accuracy: 0.9666 - loss: 0.1140 - val_accuracy: 0.9573 - val_loss: 0.1341\n",
      "Epoch 5/5\n",
      "540/540 - 5s - 9ms/step - accuracy: 0.9712 - loss: 0.0950 - val_accuracy: 0.9595 - val_loss: 0.1291\n"
     ]
    },
    {
     "data": {
      "text/plain": [
       "<keras.src.callbacks.history.History at 0x23fffe684c0>"
      ]
     },
     "execution_count": 28,
     "metadata": {},
     "output_type": "execute_result"
    }
   ],
   "source": [
    "NUM_EPOCHS=5\n",
    "\n",
    "model.fit(train_data,epochs=NUM_EPOCHS,validation_data=(validation_input,validation_output),verbose=2)\n"
   ]
  },
  {
   "cell_type": "code",
   "execution_count": 30,
   "id": "49be0cbf-276c-40dd-94da-b34b3cd3667d",
   "metadata": {},
   "outputs": [
    {
     "name": "stdout",
     "output_type": "stream",
     "text": [
      "\u001b[1m1/1\u001b[0m \u001b[32m━━━━━━━━━━━━━━━━━━━━\u001b[0m\u001b[37m\u001b[0m \u001b[1m2s\u001b[0m 2s/step - accuracy: 0.9626 - loss: 0.1206\n"
     ]
    }
   ],
   "source": [
    "#test the model\n",
    "test_loss,test_accuracy=model.evaluate(test_data)"
   ]
  },
  {
   "cell_type": "code",
   "execution_count": null,
   "id": "fc8a2481-0edd-4430-a39c-1e4eab3f74ab",
   "metadata": {},
   "outputs": [],
   "source": []
  }
 ],
 "metadata": {
  "kernelspec": {
   "display_name": "Python (fresh_env)",
   "language": "python",
   "name": "fresh_env"
  },
  "language_info": {
   "codemirror_mode": {
    "name": "ipython",
    "version": 3
   },
   "file_extension": ".py",
   "mimetype": "text/x-python",
   "name": "python",
   "nbconvert_exporter": "python",
   "pygments_lexer": "ipython3",
   "version": "3.9.21"
  }
 },
 "nbformat": 4,
 "nbformat_minor": 5
}
